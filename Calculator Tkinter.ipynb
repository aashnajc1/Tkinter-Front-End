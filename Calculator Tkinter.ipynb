{
 "cells": [
  {
   "cell_type": "code",
   "execution_count": 5,
   "id": "12937b1c",
   "metadata": {},
   "outputs": [],
   "source": [
    "from tkinter import *\n",
    "top = Tk()\n",
    "top.title(\"Calculator\")\n",
    "entry = Entry(top)\n",
    "entry.grid(row=0,column=0,columnspan=4,padx=10,pady=15)\n",
    "b1 = Button(top,text =\"C\", padx=10)\n",
    "b1.grid(row=1,column=0)\n",
    "b2 = Button(top,text =\"√\", padx=10)\n",
    "b2.grid(row=1,column=1)\n",
    "b3 = Button(top,text =\"x^y\", padx=10)\n",
    "b3.grid(row=1,column=2)\n",
    "b4 = Button(top,text =\"%\", padx=10)\n",
    "b4.grid(row=1,column=3)\n",
    "\n",
    "b5 = Button(top,text =\"1\", padx=10)\n",
    "b5.grid(row=2,column=0)\n",
    "b6 = Button(top,text =\"2\", padx=10)\n",
    "b6.grid(row=2,column=1)\n",
    "b7 = Button(top,text =\"3\", padx=10)\n",
    "b7.grid(row=2,column=2)\n",
    "b8 = Button(top,text =\"+\", padx=10)\n",
    "b8.grid(row=2,column=3)\n",
    "\n",
    "b9 = Button(top,text =\"4\", padx=10)\n",
    "b9.grid(row=3,column=0)\n",
    "b10 = Button(top,text =\"5\", padx=10)\n",
    "b10.grid(row=3,column=1)\n",
    "b11 = Button(top,text =\"6\", padx=10)\n",
    "b11.grid(row=3,column=2)\n",
    "b12 = Button(top,text =\"-\", padx=10)\n",
    "b12.grid(row=3,column=3)\n",
    "\n",
    "b13 = Button(top,text =\"7\", padx=10)\n",
    "b13.grid(row=4,column=0)\n",
    "b14 = Button(top,text =\"8\", padx=10)\n",
    "b14.grid(row=4,column=1)\n",
    "b15 = Button(top,text =\"9\", padx=10)\n",
    "b15.grid(row=4,column=2)\n",
    "b16 = Button(top,text =\"*\", padx=10)\n",
    "b16.grid(row=4,column=3)\n",
    "\n",
    "b17 = Button(top,text =\"0\", padx=10)\n",
    "b17.grid(row=5,column=0)\n",
    "b18 = Button(top,text =\".\", padx=10)\n",
    "b18.grid(row=5,column=1)\n",
    "b19 = Button(top,text =\"=\", padx=10,bg = \"orange\")\n",
    "b19.grid(row=5,column=2)\n",
    "b20 = Button(top,text =\"/\", padx=10)\n",
    "b20.grid(row=5,column=3)\n",
    "\n",
    "top.mainloop()"
   ]
  },
  {
   "cell_type": "code",
   "execution_count": null,
   "id": "1f1f75e7",
   "metadata": {},
   "outputs": [],
   "source": []
  }
 ],
 "metadata": {
  "kernelspec": {
   "display_name": "Python 3 (ipykernel)",
   "language": "python",
   "name": "python3"
  },
  "language_info": {
   "codemirror_mode": {
    "name": "ipython",
    "version": 3
   },
   "file_extension": ".py",
   "mimetype": "text/x-python",
   "name": "python",
   "nbconvert_exporter": "python",
   "pygments_lexer": "ipython3",
   "version": "3.9.7"
  }
 },
 "nbformat": 4,
 "nbformat_minor": 5
}
