{
 "cells": [
  {
   "cell_type": "code",
   "execution_count": 1,
   "id": "f7f4ec92",
   "metadata": {},
   "outputs": [],
   "source": [
    "from tkinter import *\n",
    "top =Tk()\n",
    "Label(top,text='Reg no:').grid(row=0)\n",
    "Label(top,text='Name:').grid(row=1)\n",
    "Label(top,text='Dept').grid(row=2)\n",
    "e1 = Entry(top)\n",
    "e2 = Entry(top)\n",
    "e3 = Entry(top)\n",
    "e1.grid(row=0,column=1)\n",
    "e2.grid(row=1,column=1)\n",
    "e3.grid(row=2,column=1)\n",
    "Label(top,text='Gender').grid(row=3,column=0)\n",
    "top.geometry('200x200')\n",
    "radio=IntVar()\n",
    "rb1=Radiobutton(top,text='Male',variable=radio,width=9,value=1)\n",
    "rb1.grid(row=3,column=1)\n",
    "rb2=Radiobutton(top,text='Female',variable=radio,width=9,value=2)\n",
    "rb2.grid(row=3,column=2)\n",
    "Label(top,text='Age').grid(row=4,column=0)\n",
    "sp=Spinbox(top, from_ = 15, to = 30)\n",
    "sp.grid(row=4,column=1)\n",
    "button1= Button(top, text='Insert', width=9, command=top.destroy)\n",
    "button1.grid(row=5,column=0)\n",
    "button2=Button(top,text='Update',width=9, command=top.destroy)\n",
    "button2.grid(row=5,column=1)\n",
    "button3=Button(top,text='Delete', width=9,comman=top.destroy)\n",
    "button3.grid(row=6,column=0)\n",
    "button4=Button(top,text='Select',width=9, command=top.destroy)\n",
    "button4.grid(row=6,column=1)\n",
    "top.mainloop()"
   ]
  }
 ],
 "metadata": {
  "kernelspec": {
   "display_name": "Python 3 (ipykernel)",
   "language": "python",
   "name": "python3"
  },
  "language_info": {
   "codemirror_mode": {
    "name": "ipython",
    "version": 3
   },
   "file_extension": ".py",
   "mimetype": "text/x-python",
   "name": "python",
   "nbconvert_exporter": "python",
   "pygments_lexer": "ipython3",
   "version": "3.9.7"
  }
 },
 "nbformat": 4,
 "nbformat_minor": 5
}
